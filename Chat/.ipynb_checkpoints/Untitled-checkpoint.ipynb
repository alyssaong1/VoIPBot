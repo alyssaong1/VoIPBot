{
 "cells": [
  {
   "cell_type": "code",
   "execution_count": 1,
   "metadata": {},
   "outputs": [],
   "source": [
    "#Imports\n",
    "import nltk\n",
    "import os\n",
    "import tensorflow as tf\n",
    "import json\n",
    "import pickle\n",
    "from collections import Counter\n",
    "#Loading Data\n",
    "from sklearn.feature_extraction.text import CountVectorizer\n",
    "from sklearn import preprocessing\n",
    "from tensorflow.keras.utils import to_categorical\n",
    "import numpy as np\n",
    "from tensorflow.keras.layers import Dense,Dropout\n",
    "from tensorflow.keras import Model,Input"
   ]
  },
  {
   "cell_type": "code",
   "execution_count": 2,
   "metadata": {},
   "outputs": [],
   "source": [
    "with open(\"intents.json\") as file:\n",
    "    data = json.load(file)"
   ]
  },
  {
   "cell_type": "code",
   "execution_count": 3,
   "metadata": {},
   "outputs": [],
   "source": [
    "#Initializing empty lists\n",
    "words = []\n",
    "labels = []\n",
    "docs_x = []\n",
    "docs_y = []\n",
    "\n",
    "#Looping through our data\n",
    "for intent in data['intents']:\n",
    "    for pattern in intent['patterns']:\n",
    "        pattern = pattern.lower()\n",
    "        docs_x.append(pattern)\n",
    "        docs_y.append(intent['tag'])\n",
    "\n",
    "    if intent['tag'] not in labels:\n",
    "        labels.append(intent['tag'])"
   ]
  },
  {
   "cell_type": "code",
   "execution_count": 4,
   "metadata": {},
   "outputs": [
    {
     "data": {
      "text/plain": [
       "10"
      ]
     },
     "execution_count": 4,
     "metadata": {},
     "output_type": "execute_result"
    }
   ],
   "source": [
    "len(labels)"
   ]
  },
  {
   "cell_type": "code",
   "execution_count": 5,
   "metadata": {
    "scrolled": true
   },
   "outputs": [
    {
     "data": {
      "text/plain": [
       "['hi',\n",
       " 'hey',\n",
       " 'how are you',\n",
       " 'is anyone there ?',\n",
       " 'hello',\n",
       " 'good day',\n",
       " 'whats up',\n",
       " 'book a table',\n",
       " 'can i book a table ?',\n",
       " 'i want to book a table',\n",
       " 'book seat',\n",
       " 'i want to book a seat',\n",
       " 'can i book a seat ?',\n",
       " 'how many seats are available ?',\n",
       " 'available seats',\n",
       " 'how many tables are available ?',\n",
       " 'available tables',\n",
       " 'cya',\n",
       " 'see you later',\n",
       " 'goodbye',\n",
       " 'i am leaving',\n",
       " 'have a good day',\n",
       " 'cya later',\n",
       " 'i gotta go now',\n",
       " 'i gotta rush now',\n",
       " 'how old',\n",
       " 'how old is dexter',\n",
       " 'what is your age',\n",
       " 'how old are you',\n",
       " 'age ?',\n",
       " 'what is your name',\n",
       " 'what should i call you',\n",
       " 'whats your name ?',\n",
       " 'when are you guys open',\n",
       " 'what are your hours',\n",
       " 'hours of operation',\n",
       " 'hours',\n",
       " 'what is the timing',\n",
       " 'id like to order something',\n",
       " 'whats on the menu',\n",
       " 'what do you reccommend ?',\n",
       " 'could i get something to eat',\n",
       " 'im hungry',\n",
       " 'contact information',\n",
       " 'contact us',\n",
       " 'how can i contact you',\n",
       " 'can i get the contact details',\n",
       " 'i wanna give some feedback',\n",
       " 'how can i give some feedback ?',\n",
       " 'what is the location ?',\n",
       " 'whats the location',\n",
       " 'where are you locatated ?',\n",
       " 'where is the restaurant located ?',\n",
       " 'address',\n",
       " 'whats the address ?']"
      ]
     },
     "execution_count": 5,
     "metadata": {},
     "output_type": "execute_result"
    }
   ],
   "source": [
    "docs_x"
   ]
  },
  {
   "cell_type": "code",
   "execution_count": 6,
   "metadata": {},
   "outputs": [],
   "source": [
    "my_counter = Counter()\n",
    "\n",
    "for sentence in docs_x:\n",
    "    my_counter.update(sentence.split())"
   ]
  },
  {
   "cell_type": "code",
   "execution_count": 7,
   "metadata": {},
   "outputs": [],
   "source": [
    "count_dict = dict(my_counter)"
   ]
  },
  {
   "cell_type": "code",
   "execution_count": 8,
   "metadata": {
    "scrolled": true
   },
   "outputs": [
    {
     "data": {
      "text/plain": [
       "{'hi': 1,\n",
       " 'hey': 1,\n",
       " 'how': 8,\n",
       " 'are': 7,\n",
       " 'you': 8,\n",
       " 'is': 7,\n",
       " 'anyone': 1,\n",
       " 'there': 1,\n",
       " '?': 13,\n",
       " 'hello': 1,\n",
       " 'good': 2,\n",
       " 'day': 2,\n",
       " 'whats': 5,\n",
       " 'up': 1,\n",
       " 'book': 6,\n",
       " 'a': 6,\n",
       " 'table': 3,\n",
       " 'can': 5,\n",
       " 'i': 13,\n",
       " 'want': 2,\n",
       " 'to': 4,\n",
       " 'seat': 3,\n",
       " 'many': 2,\n",
       " 'seats': 2,\n",
       " 'available': 4,\n",
       " 'tables': 2,\n",
       " 'cya': 2,\n",
       " 'see': 1,\n",
       " 'later': 2,\n",
       " 'goodbye': 1,\n",
       " 'am': 1,\n",
       " 'leaving': 1,\n",
       " 'have': 1,\n",
       " 'gotta': 2,\n",
       " 'go': 1,\n",
       " 'now': 2,\n",
       " 'rush': 1,\n",
       " 'old': 3,\n",
       " 'dexter': 1,\n",
       " 'what': 7,\n",
       " 'your': 4,\n",
       " 'age': 2,\n",
       " 'name': 2,\n",
       " 'should': 1,\n",
       " 'call': 1,\n",
       " 'when': 1,\n",
       " 'guys': 1,\n",
       " 'open': 1,\n",
       " 'hours': 3,\n",
       " 'of': 1,\n",
       " 'operation': 1,\n",
       " 'the': 7,\n",
       " 'timing': 1,\n",
       " 'id': 1,\n",
       " 'like': 1,\n",
       " 'order': 1,\n",
       " 'something': 2,\n",
       " 'on': 1,\n",
       " 'menu': 1,\n",
       " 'do': 1,\n",
       " 'reccommend': 1,\n",
       " 'could': 1,\n",
       " 'get': 2,\n",
       " 'eat': 1,\n",
       " 'im': 1,\n",
       " 'hungry': 1,\n",
       " 'contact': 4,\n",
       " 'information': 1,\n",
       " 'us': 1,\n",
       " 'details': 1,\n",
       " 'wanna': 1,\n",
       " 'give': 2,\n",
       " 'some': 2,\n",
       " 'feedback': 2,\n",
       " 'location': 2,\n",
       " 'where': 2,\n",
       " 'locatated': 1,\n",
       " 'restaurant': 1,\n",
       " 'located': 1,\n",
       " 'address': 2}"
      ]
     },
     "execution_count": 8,
     "metadata": {},
     "output_type": "execute_result"
    }
   ],
   "source": [
    "count_dict"
   ]
  },
  {
   "cell_type": "code",
   "execution_count": 9,
   "metadata": {},
   "outputs": [],
   "source": [
    "sorted_count_dict = dict(sorted(count_dict.items(), key=lambda kv: kv[1]))"
   ]
  },
  {
   "cell_type": "code",
   "execution_count": 10,
   "metadata": {},
   "outputs": [],
   "source": [
    "vectorizer = CountVectorizer(vocabulary=list(sorted_count_dict.keys()), lowercase=False, binary=True)"
   ]
  },
  {
   "cell_type": "code",
   "execution_count": 11,
   "metadata": {},
   "outputs": [
    {
     "data": {
      "text/plain": [
       "CountVectorizer(binary=True, lowercase=False,\n",
       "                vocabulary=['hi', 'hey', 'anyone', 'there', 'hello', 'up',\n",
       "                            'see', 'goodbye', 'am', 'leaving', 'have', 'go',\n",
       "                            'rush', 'dexter', 'should', 'call', 'when', 'guys',\n",
       "                            'open', 'of', 'operation', 'timing', 'id', 'like',\n",
       "                            'order', 'on', 'menu', 'do', 'reccommend', 'could', ...])"
      ]
     },
     "execution_count": 11,
     "metadata": {},
     "output_type": "execute_result"
    }
   ],
   "source": [
    "vectorizer.fit(docs_x)"
   ]
  },
  {
   "cell_type": "code",
   "execution_count": 29,
   "metadata": {},
   "outputs": [],
   "source": [
    "with open(\"vectorizer\", 'wb') as fout:\n",
    "     pickle.dump(vectorizer,fout)"
   ]
  },
  {
   "cell_type": "code",
   "execution_count": 7,
   "metadata": {},
   "outputs": [],
   "source": [
    "with open('vectorizer', 'rb') as f:\n",
    "    vectorizer = pickle.load(f)"
   ]
  },
  {
   "cell_type": "code",
   "execution_count": 8,
   "metadata": {},
   "outputs": [],
   "source": [
    "ohe = vectorizer.transform(docs_x)"
   ]
  },
  {
   "cell_type": "code",
   "execution_count": 9,
   "metadata": {},
   "outputs": [
    {
     "data": {
      "text/plain": [
       "<55x80 sparse matrix of type '<class 'numpy.int64'>'\n",
       "\twith 168 stored elements in Compressed Sparse Row format>"
      ]
     },
     "execution_count": 9,
     "metadata": {},
     "output_type": "execute_result"
    }
   ],
   "source": [
    "ohe"
   ]
  },
  {
   "cell_type": "code",
   "execution_count": 10,
   "metadata": {},
   "outputs": [],
   "source": [
    "le = preprocessing.LabelEncoder()"
   ]
  },
  {
   "cell_type": "code",
   "execution_count": 11,
   "metadata": {},
   "outputs": [],
   "source": [
    "docs_y = le.fit_transform(docs_y)"
   ]
  },
  {
   "cell_type": "code",
   "execution_count": 12,
   "metadata": {},
   "outputs": [
    {
     "data": {
      "text/plain": [
       "array([6, 6, 6, 6, 6, 6, 6, 3, 3, 3, 3, 3, 3, 2, 2, 2, 2, 5, 5, 5, 5, 5,\n",
       "       5, 5, 5, 1, 1, 1, 1, 1, 9, 9, 9, 7, 7, 7, 7, 7, 8, 8, 8, 8, 8, 4,\n",
       "       4, 4, 4, 4, 4, 0, 0, 0, 0, 0, 0], dtype=int64)"
      ]
     },
     "execution_count": 12,
     "metadata": {},
     "output_type": "execute_result"
    }
   ],
   "source": [
    "docs_y"
   ]
  },
  {
   "cell_type": "code",
   "execution_count": 13,
   "metadata": {},
   "outputs": [
    {
     "data": {
      "text/plain": [
       "array(['address', 'age', 'available_tables', 'book_table', 'contact',\n",
       "       'goodbye', 'greeting', 'hours', 'menu', 'name'], dtype='<U16')"
      ]
     },
     "execution_count": 13,
     "metadata": {},
     "output_type": "execute_result"
    }
   ],
   "source": [
    "le.classes_"
   ]
  },
  {
   "cell_type": "code",
   "execution_count": 14,
   "metadata": {},
   "outputs": [],
   "source": [
    "doc_input = Input(shape=(80,))\n",
    "dense_layer_1 = Dense(32,activation='relu',kernel_initializer='glorot_normal')(doc_input)\n",
    "dense_layer_2 = Dense(64,activation='relu',kernel_initializer='glorot_normal')(dense_layer_1)\n",
    "drop_out = Dropout(0.6)(dense_layer_2)\n",
    "output=Dense(len(labels), activation='softmax')(drop_out)"
   ]
  },
  {
   "cell_type": "code",
   "execution_count": 15,
   "metadata": {},
   "outputs": [],
   "source": [
    "doc_y = to_categorical(docs_y,num_classes=len(labels))"
   ]
  },
  {
   "cell_type": "code",
   "execution_count": 16,
   "metadata": {},
   "outputs": [],
   "source": [
    "model = Model(doc_input,output)"
   ]
  },
  {
   "cell_type": "code",
   "execution_count": 17,
   "metadata": {},
   "outputs": [
    {
     "name": "stdout",
     "output_type": "stream",
     "text": [
      "Model: \"functional_1\"\n",
      "_________________________________________________________________\n",
      "Layer (type)                 Output Shape              Param #   \n",
      "=================================================================\n",
      "input_1 (InputLayer)         [(None, 80)]              0         \n",
      "_________________________________________________________________\n",
      "dense (Dense)                (None, 32)                2592      \n",
      "_________________________________________________________________\n",
      "dense_1 (Dense)              (None, 64)                2112      \n",
      "_________________________________________________________________\n",
      "dropout (Dropout)            (None, 64)                0         \n",
      "_________________________________________________________________\n",
      "dense_2 (Dense)              (None, 10)                650       \n",
      "=================================================================\n",
      "Total params: 5,354\n",
      "Trainable params: 5,354\n",
      "Non-trainable params: 0\n",
      "_________________________________________________________________\n"
     ]
    }
   ],
   "source": [
    "model.summary()"
   ]
  },
  {
   "cell_type": "code",
   "execution_count": 18,
   "metadata": {},
   "outputs": [],
   "source": [
    "model.compile(optimizer='adam', loss='categorical_crossentropy',metrics=['accuracy'])"
   ]
  },
  {
   "cell_type": "code",
   "execution_count": 19,
   "metadata": {},
   "outputs": [
    {
     "name": "stdout",
     "output_type": "stream",
     "text": [
      "Epoch 1/200\n",
      "1/1 [==============================] - 0s 2ms/step - loss: 2.3488 - accuracy: 0.1273\n",
      "Epoch 2/200\n",
      "1/1 [==============================] - 0s 2ms/step - loss: 2.2752 - accuracy: 0.1091\n",
      "Epoch 3/200\n",
      "1/1 [==============================] - 0s 3ms/step - loss: 2.3118 - accuracy: 0.1273\n",
      "Epoch 4/200\n",
      "1/1 [==============================] - 0s 2ms/step - loss: 2.3107 - accuracy: 0.1091\n",
      "Epoch 5/200\n",
      "1/1 [==============================] - 0s 5ms/step - loss: 2.3213 - accuracy: 0.0545\n",
      "Epoch 6/200\n",
      "1/1 [==============================] - 0s 5ms/step - loss: 2.2539 - accuracy: 0.0909\n",
      "Epoch 7/200\n",
      "1/1 [==============================] - 0s 4ms/step - loss: 2.2811 - accuracy: 0.1273\n",
      "Epoch 8/200\n",
      "1/1 [==============================] - 0s 995us/step - loss: 2.2750 - accuracy: 0.0727\n",
      "Epoch 9/200\n",
      "1/1 [==============================] - 0s 1ms/step - loss: 2.2621 - accuracy: 0.2182\n",
      "Epoch 10/200\n",
      "1/1 [==============================] - 0s 5ms/step - loss: 2.2687 - accuracy: 0.1273\n",
      "Epoch 11/200\n",
      "1/1 [==============================] - 0s 998us/step - loss: 2.2625 - accuracy: 0.1636\n",
      "Epoch 12/200\n",
      "1/1 [==============================] - 0s 997us/step - loss: 2.2697 - accuracy: 0.0909\n",
      "Epoch 13/200\n",
      "1/1 [==============================] - 0s 1ms/step - loss: 2.2599 - accuracy: 0.2000\n",
      "Epoch 14/200\n",
      "1/1 [==============================] - 0s 998us/step - loss: 2.2246 - accuracy: 0.1818\n",
      "Epoch 15/200\n",
      "1/1 [==============================] - 0s 4ms/step - loss: 2.2283 - accuracy: 0.2182\n",
      "Epoch 16/200\n",
      "1/1 [==============================] - 0s 4ms/step - loss: 2.2315 - accuracy: 0.2000\n",
      "Epoch 17/200\n",
      "1/1 [==============================] - 0s 3ms/step - loss: 2.2205 - accuracy: 0.2182\n",
      "Epoch 18/200\n",
      "1/1 [==============================] - 0s 998us/step - loss: 2.2112 - accuracy: 0.2182\n",
      "Epoch 19/200\n",
      "1/1 [==============================] - 0s 996us/step - loss: 2.2277 - accuracy: 0.2364\n",
      "Epoch 20/200\n",
      "1/1 [==============================] - 0s 1ms/step - loss: 2.1807 - accuracy: 0.2364\n",
      "Epoch 21/200\n",
      "1/1 [==============================] - 0s 2ms/step - loss: 2.2124 - accuracy: 0.2000\n",
      "Epoch 22/200\n",
      "1/1 [==============================] - 0s 2ms/step - loss: 2.1807 - accuracy: 0.3091\n",
      "Epoch 23/200\n",
      "1/1 [==============================] - 0s 3ms/step - loss: 2.1868 - accuracy: 0.2182\n",
      "Epoch 24/200\n",
      "1/1 [==============================] - 0s 3ms/step - loss: 2.1669 - accuracy: 0.2909\n",
      "Epoch 25/200\n",
      "1/1 [==============================] - 0s 4ms/step - loss: 2.1716 - accuracy: 0.3091\n",
      "Epoch 26/200\n",
      "1/1 [==============================] - 0s 3ms/step - loss: 2.1660 - accuracy: 0.2182\n",
      "Epoch 27/200\n",
      "1/1 [==============================] - 0s 4ms/step - loss: 2.1468 - accuracy: 0.3455\n",
      "Epoch 28/200\n",
      "1/1 [==============================] - 0s 2ms/step - loss: 2.1192 - accuracy: 0.2727\n",
      "Epoch 29/200\n",
      "1/1 [==============================] - 0s 2ms/step - loss: 2.1367 - accuracy: 0.2727\n",
      "Epoch 30/200\n",
      "1/1 [==============================] - 0s 4ms/step - loss: 2.1202 - accuracy: 0.3455\n",
      "Epoch 31/200\n",
      "1/1 [==============================] - 0s 2ms/step - loss: 2.0909 - accuracy: 0.4727\n",
      "Epoch 32/200\n",
      "1/1 [==============================] - 0s 3ms/step - loss: 2.1145 - accuracy: 0.4182\n",
      "Epoch 33/200\n",
      "1/1 [==============================] - 0s 3ms/step - loss: 2.1067 - accuracy: 0.4182\n",
      "Epoch 34/200\n",
      "1/1 [==============================] - 0s 2ms/step - loss: 2.1052 - accuracy: 0.3091\n",
      "Epoch 35/200\n",
      "1/1 [==============================] - 0s 2ms/step - loss: 2.0609 - accuracy: 0.4545\n",
      "Epoch 36/200\n",
      "1/1 [==============================] - 0s 2ms/step - loss: 2.0308 - accuracy: 0.5818\n",
      "Epoch 37/200\n",
      "1/1 [==============================] - 0s 1ms/step - loss: 2.0645 - accuracy: 0.4909\n",
      "Epoch 38/200\n",
      "1/1 [==============================] - ETA: 0s - loss: 2.0730 - accuracy: 0.38 - 0s 3ms/step - loss: 2.0730 - accuracy: 0.3818\n",
      "Epoch 39/200\n",
      "1/1 [==============================] - 0s 3ms/step - loss: 2.0744 - accuracy: 0.3818\n",
      "Epoch 40/200\n",
      "1/1 [==============================] - 0s 2ms/step - loss: 2.0446 - accuracy: 0.4182\n",
      "Epoch 41/200\n",
      "1/1 [==============================] - 0s 0s/step - loss: 2.0726 - accuracy: 0.4364\n",
      "Epoch 42/200\n",
      "1/1 [==============================] - 0s 1ms/step - loss: 1.9887 - accuracy: 0.4727\n",
      "Epoch 43/200\n",
      "1/1 [==============================] - 0s 998us/step - loss: 2.0433 - accuracy: 0.4545\n",
      "Epoch 44/200\n",
      "1/1 [==============================] - 0s 2ms/step - loss: 2.0417 - accuracy: 0.4727\n",
      "Epoch 45/200\n",
      "1/1 [==============================] - 0s 4ms/step - loss: 2.0592 - accuracy: 0.3636\n",
      "Epoch 46/200\n",
      "1/1 [==============================] - 0s 2ms/step - loss: 2.0019 - accuracy: 0.4545\n",
      "Epoch 47/200\n",
      "1/1 [==============================] - 0s 2ms/step - loss: 1.9455 - accuracy: 0.6000\n",
      "Epoch 48/200\n",
      "1/1 [==============================] - 0s 998us/step - loss: 1.9715 - accuracy: 0.5091\n",
      "Epoch 49/200\n",
      "1/1 [==============================] - 0s 6ms/step - loss: 2.0259 - accuracy: 0.4727\n",
      "Epoch 50/200\n",
      "1/1 [==============================] - 0s 2ms/step - loss: 1.9374 - accuracy: 0.4545\n",
      "Epoch 51/200\n",
      "1/1 [==============================] - 0s 6ms/step - loss: 1.9805 - accuracy: 0.5091\n",
      "Epoch 52/200\n",
      "1/1 [==============================] - 0s 3ms/step - loss: 1.9626 - accuracy: 0.5091\n",
      "Epoch 53/200\n",
      "1/1 [==============================] - 0s 2ms/step - loss: 1.8938 - accuracy: 0.5636\n",
      "Epoch 54/200\n",
      "1/1 [==============================] - 0s 0s/step - loss: 1.8878 - accuracy: 0.5636\n",
      "Epoch 55/200\n",
      "1/1 [==============================] - 0s 3ms/step - loss: 1.8453 - accuracy: 0.6364\n",
      "Epoch 56/200\n",
      "1/1 [==============================] - 0s 1ms/step - loss: 1.8920 - accuracy: 0.5091\n",
      "Epoch 57/200\n",
      "1/1 [==============================] - 0s 2ms/step - loss: 1.8603 - accuracy: 0.5636\n",
      "Epoch 58/200\n",
      "1/1 [==============================] - 0s 1ms/step - loss: 1.8432 - accuracy: 0.5636\n",
      "Epoch 59/200\n",
      "1/1 [==============================] - 0s 995us/step - loss: 1.8628 - accuracy: 0.5636\n",
      "Epoch 60/200\n",
      "1/1 [==============================] - 0s 5ms/step - loss: 1.9101 - accuracy: 0.5455\n",
      "Epoch 61/200\n",
      "1/1 [==============================] - 0s 0s/step - loss: 1.8620 - accuracy: 0.6000\n",
      "Epoch 62/200\n",
      "1/1 [==============================] - 0s 3ms/step - loss: 1.8342 - accuracy: 0.4909\n",
      "Epoch 63/200\n",
      "1/1 [==============================] - 0s 994us/step - loss: 1.8425 - accuracy: 0.6000\n",
      "Epoch 64/200\n",
      "1/1 [==============================] - 0s 1ms/step - loss: 1.7947 - accuracy: 0.6000\n",
      "Epoch 65/200\n",
      "1/1 [==============================] - 0s 3ms/step - loss: 1.7213 - accuracy: 0.7818\n",
      "Epoch 66/200\n",
      "1/1 [==============================] - 0s 2ms/step - loss: 1.7606 - accuracy: 0.6364\n",
      "Epoch 67/200\n",
      "1/1 [==============================] - 0s 2ms/step - loss: 1.7814 - accuracy: 0.6000\n",
      "Epoch 68/200\n",
      "1/1 [==============================] - 0s 3ms/step - loss: 1.7750 - accuracy: 0.6364\n",
      "Epoch 69/200\n",
      "1/1 [==============================] - 0s 2ms/step - loss: 1.7368 - accuracy: 0.5818\n",
      "Epoch 70/200\n",
      "1/1 [==============================] - 0s 2ms/step - loss: 1.7072 - accuracy: 0.6545\n",
      "Epoch 71/200\n",
      "1/1 [==============================] - 0s 2ms/step - loss: 1.7798 - accuracy: 0.5818\n",
      "Epoch 72/200\n",
      "1/1 [==============================] - 0s 3ms/step - loss: 1.6649 - accuracy: 0.6364\n",
      "Epoch 73/200\n",
      "1/1 [==============================] - 0s 1ms/step - loss: 1.7060 - accuracy: 0.6909\n",
      "Epoch 74/200\n",
      "1/1 [==============================] - 0s 0s/step - loss: 1.7074 - accuracy: 0.6182\n",
      "Epoch 75/200\n",
      "1/1 [==============================] - 0s 0s/step - loss: 1.6318 - accuracy: 0.6909\n",
      "Epoch 76/200\n",
      "1/1 [==============================] - 0s 994us/step - loss: 1.6531 - accuracy: 0.7091\n",
      "Epoch 77/200\n",
      "1/1 [==============================] - 0s 2ms/step - loss: 1.6231 - accuracy: 0.6909\n",
      "Epoch 78/200\n",
      "1/1 [==============================] - 0s 2ms/step - loss: 1.6955 - accuracy: 0.5818\n",
      "Epoch 79/200\n",
      "1/1 [==============================] - 0s 996us/step - loss: 1.6765 - accuracy: 0.6909\n",
      "Epoch 80/200\n",
      "1/1 [==============================] - 0s 1ms/step - loss: 1.6634 - accuracy: 0.6909\n",
      "Epoch 81/200\n",
      "1/1 [==============================] - 0s 999us/step - loss: 1.6266 - accuracy: 0.6364\n",
      "Epoch 82/200\n",
      "1/1 [==============================] - 0s 6ms/step - loss: 1.5144 - accuracy: 0.7455\n",
      "Epoch 83/200\n",
      "1/1 [==============================] - 0s 4ms/step - loss: 1.4505 - accuracy: 0.8182\n"
     ]
    },
    {
     "name": "stdout",
     "output_type": "stream",
     "text": [
      "Epoch 84/200\n",
      "1/1 [==============================] - 0s 3ms/step - loss: 1.5071 - accuracy: 0.6909\n",
      "Epoch 85/200\n",
      "1/1 [==============================] - 0s 2ms/step - loss: 1.5455 - accuracy: 0.6545\n",
      "Epoch 86/200\n",
      "1/1 [==============================] - 0s 1ms/step - loss: 1.4236 - accuracy: 0.7636\n",
      "Epoch 87/200\n",
      "1/1 [==============================] - 0s 0s/step - loss: 1.4558 - accuracy: 0.7455\n",
      "Epoch 88/200\n",
      "1/1 [==============================] - 0s 2ms/step - loss: 1.4824 - accuracy: 0.7636\n",
      "Epoch 89/200\n",
      "1/1 [==============================] - 0s 996us/step - loss: 1.4959 - accuracy: 0.6364\n",
      "Epoch 90/200\n",
      "1/1 [==============================] - 0s 3ms/step - loss: 1.4413 - accuracy: 0.6909\n",
      "Epoch 91/200\n",
      "1/1 [==============================] - 0s 997us/step - loss: 1.4384 - accuracy: 0.7455\n",
      "Epoch 92/200\n",
      "1/1 [==============================] - 0s 0s/step - loss: 1.4207 - accuracy: 0.7455\n",
      "Epoch 93/200\n",
      "1/1 [==============================] - 0s 999us/step - loss: 1.4137 - accuracy: 0.7273\n",
      "Epoch 94/200\n",
      "1/1 [==============================] - 0s 0s/step - loss: 1.3860 - accuracy: 0.6727\n",
      "Epoch 95/200\n",
      "1/1 [==============================] - 0s 998us/step - loss: 1.3977 - accuracy: 0.7636\n",
      "Epoch 96/200\n",
      "1/1 [==============================] - 0s 3ms/step - loss: 1.2275 - accuracy: 0.7455\n",
      "Epoch 97/200\n",
      "1/1 [==============================] - 0s 1000us/step - loss: 1.3195 - accuracy: 0.8364\n",
      "Epoch 98/200\n",
      "1/1 [==============================] - 0s 998us/step - loss: 1.4080 - accuracy: 0.7273\n",
      "Epoch 99/200\n",
      "1/1 [==============================] - 0s 0s/step - loss: 1.2826 - accuracy: 0.7636\n",
      "Epoch 100/200\n",
      "1/1 [==============================] - 0s 3ms/step - loss: 1.3435 - accuracy: 0.7818\n",
      "Epoch 101/200\n",
      "1/1 [==============================] - 0s 3ms/step - loss: 1.3476 - accuracy: 0.7636\n",
      "Epoch 102/200\n",
      "1/1 [==============================] - 0s 7ms/step - loss: 1.2524 - accuracy: 0.7455\n",
      "Epoch 103/200\n",
      "1/1 [==============================] - 0s 0s/step - loss: 1.1721 - accuracy: 0.8000\n",
      "Epoch 104/200\n",
      "1/1 [==============================] - 0s 0s/step - loss: 1.1647 - accuracy: 0.8000\n",
      "Epoch 105/200\n",
      "1/1 [==============================] - 0s 996us/step - loss: 1.1975 - accuracy: 0.7818\n",
      "Epoch 106/200\n",
      "1/1 [==============================] - 0s 2ms/step - loss: 1.2668 - accuracy: 0.6545\n",
      "Epoch 107/200\n",
      "1/1 [==============================] - 0s 1ms/step - loss: 1.1775 - accuracy: 0.8000\n",
      "Epoch 108/200\n",
      "1/1 [==============================] - 0s 1ms/step - loss: 1.2627 - accuracy: 0.7818\n",
      "Epoch 109/200\n",
      "1/1 [==============================] - 0s 4ms/step - loss: 1.1405 - accuracy: 0.7091\n",
      "Epoch 110/200\n",
      "1/1 [==============================] - 0s 0s/step - loss: 1.0879 - accuracy: 0.8000\n",
      "Epoch 111/200\n",
      "1/1 [==============================] - 0s 996us/step - loss: 1.0532 - accuracy: 0.8364\n",
      "Epoch 112/200\n",
      "1/1 [==============================] - 0s 0s/step - loss: 1.2143 - accuracy: 0.7091\n",
      "Epoch 113/200\n",
      "1/1 [==============================] - 0s 0s/step - loss: 1.0874 - accuracy: 0.8182\n",
      "Epoch 114/200\n",
      "1/1 [==============================] - 0s 0s/step - loss: 0.9892 - accuracy: 0.8364\n",
      "Epoch 115/200\n",
      "1/1 [==============================] - 0s 0s/step - loss: 1.1242 - accuracy: 0.7636\n",
      "Epoch 116/200\n",
      "1/1 [==============================] - 0s 1ms/step - loss: 1.0731 - accuracy: 0.7818\n",
      "Epoch 117/200\n",
      "1/1 [==============================] - 0s 5ms/step - loss: 1.0388 - accuracy: 0.8364\n",
      "Epoch 118/200\n",
      "1/1 [==============================] - 0s 2ms/step - loss: 0.9465 - accuracy: 0.9455\n",
      "Epoch 119/200\n",
      "1/1 [==============================] - 0s 1ms/step - loss: 1.0408 - accuracy: 0.7818\n",
      "Epoch 120/200\n",
      "1/1 [==============================] - 0s 3ms/step - loss: 1.0438 - accuracy: 0.7818\n",
      "Epoch 121/200\n",
      "1/1 [==============================] - 0s 996us/step - loss: 0.9892 - accuracy: 0.8545\n",
      "Epoch 122/200\n",
      "1/1 [==============================] - 0s 2ms/step - loss: 0.8735 - accuracy: 0.8727\n",
      "Epoch 123/200\n",
      "1/1 [==============================] - 0s 3ms/step - loss: 0.9525 - accuracy: 0.8364\n",
      "Epoch 124/200\n",
      "1/1 [==============================] - 0s 2ms/step - loss: 0.8590 - accuracy: 0.8000\n",
      "Epoch 125/200\n",
      "1/1 [==============================] - 0s 2ms/step - loss: 0.8964 - accuracy: 0.8545\n",
      "Epoch 126/200\n",
      "1/1 [==============================] - 0s 4ms/step - loss: 0.9115 - accuracy: 0.8727\n",
      "Epoch 127/200\n",
      "1/1 [==============================] - 0s 5ms/step - loss: 0.9257 - accuracy: 0.8364\n",
      "Epoch 128/200\n",
      "1/1 [==============================] - 0s 1ms/step - loss: 0.8895 - accuracy: 0.8182\n",
      "Epoch 129/200\n",
      "1/1 [==============================] - 0s 2ms/step - loss: 0.8258 - accuracy: 0.9091\n",
      "Epoch 130/200\n",
      "1/1 [==============================] - 0s 3ms/step - loss: 0.8422 - accuracy: 0.8545\n",
      "Epoch 131/200\n",
      "1/1 [==============================] - 0s 2ms/step - loss: 0.8570 - accuracy: 0.8727\n",
      "Epoch 132/200\n",
      "1/1 [==============================] - 0s 4ms/step - loss: 0.9280 - accuracy: 0.8182\n",
      "Epoch 133/200\n",
      "1/1 [==============================] - 0s 4ms/step - loss: 0.8768 - accuracy: 0.9091\n",
      "Epoch 134/200\n",
      "1/1 [==============================] - 0s 0s/step - loss: 0.7916 - accuracy: 0.8545\n",
      "Epoch 135/200\n",
      "1/1 [==============================] - 0s 2ms/step - loss: 0.9022 - accuracy: 0.7636\n",
      "Epoch 136/200\n",
      "1/1 [==============================] - 0s 3ms/step - loss: 0.8050 - accuracy: 0.8545\n",
      "Epoch 137/200\n",
      "1/1 [==============================] - 0s 4ms/step - loss: 0.7312 - accuracy: 0.9091\n",
      "Epoch 138/200\n",
      "1/1 [==============================] - 0s 4ms/step - loss: 0.6224 - accuracy: 0.8727\n",
      "Epoch 139/200\n",
      "1/1 [==============================] - 0s 2ms/step - loss: 0.7029 - accuracy: 0.9455\n",
      "Epoch 140/200\n",
      "1/1 [==============================] - 0s 2ms/step - loss: 0.7591 - accuracy: 0.9091\n",
      "Epoch 141/200\n",
      "1/1 [==============================] - 0s 1ms/step - loss: 0.6590 - accuracy: 0.8545\n",
      "Epoch 142/200\n",
      "1/1 [==============================] - 0s 3ms/step - loss: 0.7492 - accuracy: 0.8364\n",
      "Epoch 143/200\n",
      "1/1 [==============================] - 0s 997us/step - loss: 0.7123 - accuracy: 0.8909\n",
      "Epoch 144/200\n",
      "1/1 [==============================] - 0s 4ms/step - loss: 0.6112 - accuracy: 0.8909\n",
      "Epoch 145/200\n",
      "1/1 [==============================] - 0s 2ms/step - loss: 0.6760 - accuracy: 0.8364\n",
      "Epoch 146/200\n",
      "1/1 [==============================] - 0s 6ms/step - loss: 0.6241 - accuracy: 0.9273\n",
      "Epoch 147/200\n",
      "1/1 [==============================] - 0s 3ms/step - loss: 0.6769 - accuracy: 0.8545\n",
      "Epoch 148/200\n",
      "1/1 [==============================] - 0s 6ms/step - loss: 0.5956 - accuracy: 0.8727\n",
      "Epoch 149/200\n",
      "1/1 [==============================] - 0s 4ms/step - loss: 0.5396 - accuracy: 0.9091\n",
      "Epoch 150/200\n",
      "1/1 [==============================] - 0s 2ms/step - loss: 0.6019 - accuracy: 0.8727\n",
      "Epoch 151/200\n",
      "1/1 [==============================] - 0s 3ms/step - loss: 0.7091 - accuracy: 0.8000\n",
      "Epoch 152/200\n",
      "1/1 [==============================] - 0s 2ms/step - loss: 0.6271 - accuracy: 0.9455\n",
      "Epoch 153/200\n",
      "1/1 [==============================] - 0s 2ms/step - loss: 0.5988 - accuracy: 0.8909\n",
      "Epoch 154/200\n",
      "1/1 [==============================] - 0s 5ms/step - loss: 0.5468 - accuracy: 0.9273\n",
      "Epoch 155/200\n",
      "1/1 [==============================] - 0s 9ms/step - loss: 0.5337 - accuracy: 0.9273\n",
      "Epoch 156/200\n",
      "1/1 [==============================] - 0s 6ms/step - loss: 0.5348 - accuracy: 0.9455\n",
      "Epoch 157/200\n",
      "1/1 [==============================] - 0s 1ms/step - loss: 0.5658 - accuracy: 0.8545\n",
      "Epoch 158/200\n",
      "1/1 [==============================] - 0s 9ms/step - loss: 0.5239 - accuracy: 0.9273\n",
      "Epoch 159/200\n",
      "1/1 [==============================] - 0s 6ms/step - loss: 0.5505 - accuracy: 0.8727\n",
      "Epoch 160/200\n",
      "1/1 [==============================] - 0s 2ms/step - loss: 0.5561 - accuracy: 0.9273\n",
      "Epoch 161/200\n",
      "1/1 [==============================] - 0s 1ms/step - loss: 0.5194 - accuracy: 0.9455\n",
      "Epoch 162/200\n",
      "1/1 [==============================] - 0s 3ms/step - loss: 0.5017 - accuracy: 0.9636\n",
      "Epoch 163/200\n",
      "1/1 [==============================] - 0s 6ms/step - loss: 0.5041 - accuracy: 0.9091\n",
      "Epoch 164/200\n",
      "1/1 [==============================] - 0s 2ms/step - loss: 0.5311 - accuracy: 0.9273\n",
      "Epoch 165/200\n",
      "1/1 [==============================] - 0s 2ms/step - loss: 0.4635 - accuracy: 0.9455\n",
      "Epoch 166/200\n"
     ]
    },
    {
     "name": "stdout",
     "output_type": "stream",
     "text": [
      "1/1 [==============================] - 0s 3ms/step - loss: 0.4812 - accuracy: 0.9091\n",
      "Epoch 167/200\n",
      "1/1 [==============================] - 0s 3ms/step - loss: 0.5606 - accuracy: 0.9091\n",
      "Epoch 168/200\n",
      "1/1 [==============================] - 0s 3ms/step - loss: 0.5370 - accuracy: 0.9455\n",
      "Epoch 169/200\n",
      "1/1 [==============================] - 0s 5ms/step - loss: 0.4952 - accuracy: 0.9455\n",
      "Epoch 170/200\n",
      "1/1 [==============================] - 0s 6ms/step - loss: 0.4518 - accuracy: 0.9455\n",
      "Epoch 171/200\n",
      "1/1 [==============================] - 0s 4ms/step - loss: 0.5011 - accuracy: 0.8909\n",
      "Epoch 172/200\n",
      "1/1 [==============================] - 0s 998us/step - loss: 0.4265 - accuracy: 0.9455\n",
      "Epoch 173/200\n",
      "1/1 [==============================] - 0s 5ms/step - loss: 0.3844 - accuracy: 0.9273\n",
      "Epoch 174/200\n",
      "1/1 [==============================] - 0s 4ms/step - loss: 0.4409 - accuracy: 0.9636\n",
      "Epoch 175/200\n",
      "1/1 [==============================] - 0s 2ms/step - loss: 0.4034 - accuracy: 0.9273\n",
      "Epoch 176/200\n",
      "1/1 [==============================] - 0s 2ms/step - loss: 0.3786 - accuracy: 0.9636\n",
      "Epoch 177/200\n",
      "1/1 [==============================] - 0s 2ms/step - loss: 0.4194 - accuracy: 0.9091\n",
      "Epoch 178/200\n",
      "1/1 [==============================] - 0s 6ms/step - loss: 0.4346 - accuracy: 0.9455\n",
      "Epoch 179/200\n",
      "1/1 [==============================] - 0s 2ms/step - loss: 0.3776 - accuracy: 0.9636\n",
      "Epoch 180/200\n",
      "1/1 [==============================] - 0s 6ms/step - loss: 0.3744 - accuracy: 0.9273\n",
      "Epoch 181/200\n",
      "1/1 [==============================] - 0s 4ms/step - loss: 0.4474 - accuracy: 0.9636\n",
      "Epoch 182/200\n",
      "1/1 [==============================] - 0s 2ms/step - loss: 0.3930 - accuracy: 0.9455\n",
      "Epoch 183/200\n",
      "1/1 [==============================] - 0s 6ms/step - loss: 0.5146 - accuracy: 0.8000\n",
      "Epoch 184/200\n",
      "1/1 [==============================] - 0s 4ms/step - loss: 0.3287 - accuracy: 0.9818\n",
      "Epoch 185/200\n",
      "1/1 [==============================] - 0s 3ms/step - loss: 0.3525 - accuracy: 0.9273\n",
      "Epoch 186/200\n",
      "1/1 [==============================] - 0s 3ms/step - loss: 0.3340 - accuracy: 0.9273\n",
      "Epoch 187/200\n",
      "1/1 [==============================] - 0s 2ms/step - loss: 0.4467 - accuracy: 0.9455\n",
      "Epoch 188/200\n",
      "1/1 [==============================] - 0s 5ms/step - loss: 0.2784 - accuracy: 0.9818\n",
      "Epoch 189/200\n",
      "1/1 [==============================] - 0s 6ms/step - loss: 0.4008 - accuracy: 0.9455\n",
      "Epoch 190/200\n",
      "1/1 [==============================] - 0s 6ms/step - loss: 0.2825 - accuracy: 0.9818\n",
      "Epoch 191/200\n",
      "1/1 [==============================] - 0s 6ms/step - loss: 0.3314 - accuracy: 0.9273\n",
      "Epoch 192/200\n",
      "1/1 [==============================] - 0s 5ms/step - loss: 0.3743 - accuracy: 0.9818\n",
      "Epoch 193/200\n",
      "1/1 [==============================] - 0s 0s/step - loss: 0.2750 - accuracy: 0.9455\n",
      "Epoch 194/200\n",
      "1/1 [==============================] - 0s 3ms/step - loss: 0.3535 - accuracy: 0.9455\n",
      "Epoch 195/200\n",
      "1/1 [==============================] - 0s 7ms/step - loss: 0.3691 - accuracy: 0.9273\n",
      "Epoch 196/200\n",
      "1/1 [==============================] - 0s 2ms/step - loss: 0.3098 - accuracy: 0.9273\n",
      "Epoch 197/200\n",
      "1/1 [==============================] - 0s 2ms/step - loss: 0.3344 - accuracy: 0.9455\n",
      "Epoch 198/200\n",
      "1/1 [==============================] - 0s 3ms/step - loss: 0.3553 - accuracy: 0.9273\n",
      "Epoch 199/200\n",
      "1/1 [==============================] - 0s 2ms/step - loss: 0.3072 - accuracy: 1.0000\n",
      "Epoch 200/200\n",
      "1/1 [==============================] - 0s 2ms/step - loss: 0.2800 - accuracy: 0.9636\n"
     ]
    },
    {
     "data": {
      "text/plain": [
       "<tensorflow.python.keras.callbacks.History at 0x15cb477fb50>"
      ]
     },
     "execution_count": 19,
     "metadata": {},
     "output_type": "execute_result"
    }
   ],
   "source": [
    "model.fit(ohe,doc_y,epochs=200,batch_size=400,verbose=1)"
   ]
  },
  {
   "cell_type": "code",
   "execution_count": 20,
   "metadata": {},
   "outputs": [
    {
     "data": {
      "text/plain": [
       "array([6], dtype=int64)"
      ]
     },
     "execution_count": 20,
     "metadata": {},
     "output_type": "execute_result"
    }
   ],
   "source": [
    "np.argmax(model.predict(ohe[0]),-1)"
   ]
  },
  {
   "cell_type": "code",
   "execution_count": 25,
   "metadata": {},
   "outputs": [],
   "source": [
    "query = [\"Can you recommend something ?\"]"
   ]
  },
  {
   "cell_type": "code",
   "execution_count": 26,
   "metadata": {},
   "outputs": [
    {
     "ename": "ValueError",
     "evalue": "Iterable over raw text documents expected, string object received.",
     "output_type": "error",
     "traceback": [
      "\u001b[1;31m---------------------------------------------------------------------------\u001b[0m",
      "\u001b[1;31mValueError\u001b[0m                                Traceback (most recent call last)",
      "\u001b[1;32m<ipython-input-26-5a423243fc6c>\u001b[0m in \u001b[0;36m<module>\u001b[1;34m\u001b[0m\n\u001b[1;32m----> 1\u001b[1;33m \u001b[0mnp\u001b[0m\u001b[1;33m.\u001b[0m\u001b[0margmax\u001b[0m\u001b[1;33m(\u001b[0m\u001b[0mmodel\u001b[0m\u001b[1;33m.\u001b[0m\u001b[0mpredict\u001b[0m\u001b[1;33m(\u001b[0m\u001b[0mvectorizer\u001b[0m\u001b[1;33m.\u001b[0m\u001b[0mtransform\u001b[0m\u001b[1;33m(\u001b[0m\u001b[0mquery\u001b[0m\u001b[1;33m)\u001b[0m\u001b[1;33m)\u001b[0m\u001b[1;33m)\u001b[0m\u001b[1;33m\u001b[0m\u001b[1;33m\u001b[0m\u001b[0m\n\u001b[0m",
      "\u001b[1;32m~\\Anaconda3\\lib\\site-packages\\sklearn\\feature_extraction\\text.py\u001b[0m in \u001b[0;36mtransform\u001b[1;34m(self, raw_documents)\u001b[0m\n\u001b[0;32m   1241\u001b[0m         \"\"\"\n\u001b[0;32m   1242\u001b[0m         \u001b[1;32mif\u001b[0m \u001b[0misinstance\u001b[0m\u001b[1;33m(\u001b[0m\u001b[0mraw_documents\u001b[0m\u001b[1;33m,\u001b[0m \u001b[0mstr\u001b[0m\u001b[1;33m)\u001b[0m\u001b[1;33m:\u001b[0m\u001b[1;33m\u001b[0m\u001b[1;33m\u001b[0m\u001b[0m\n\u001b[1;32m-> 1243\u001b[1;33m             raise ValueError(\n\u001b[0m\u001b[0;32m   1244\u001b[0m                 \u001b[1;34m\"Iterable over raw text documents expected, \"\u001b[0m\u001b[1;33m\u001b[0m\u001b[1;33m\u001b[0m\u001b[0m\n\u001b[0;32m   1245\u001b[0m                 \"string object received.\")\n",
      "\u001b[1;31mValueError\u001b[0m: Iterable over raw text documents expected, string object received."
     ]
    }
   ],
   "source": [
    "np.argmax(model.predict(vectorizer.transform(query)))"
   ]
  },
  {
   "cell_type": "code",
   "execution_count": 23,
   "metadata": {},
   "outputs": [
    {
     "data": {
      "text/plain": [
       "array(['address', 'age', 'available_tables', 'book_table', 'contact',\n",
       "       'goodbye', 'greeting', 'hours', 'menu', 'name'], dtype='<U16')"
      ]
     },
     "execution_count": 23,
     "metadata": {},
     "output_type": "execute_result"
    }
   ],
   "source": [
    "le.classes_"
   ]
  },
  {
   "cell_type": "code",
   "execution_count": 24,
   "metadata": {},
   "outputs": [],
   "source": [
    "model.save(\"final_model.h5\")"
   ]
  },
  {
   "cell_type": "code",
   "execution_count": null,
   "metadata": {},
   "outputs": [],
   "source": [
    "def get_input(query):\n",
    "    inp = vectorizer.transform([query])\n",
    "    return inp"
   ]
  }
 ],
 "metadata": {
  "kernelspec": {
   "display_name": "Python 3",
   "language": "python",
   "name": "python3"
  },
  "language_info": {
   "codemirror_mode": {
    "name": "ipython",
    "version": 3
   },
   "file_extension": ".py",
   "mimetype": "text/x-python",
   "name": "python",
   "nbconvert_exporter": "python",
   "pygments_lexer": "ipython3",
   "version": "3.8.3"
  }
 },
 "nbformat": 4,
 "nbformat_minor": 4
}
